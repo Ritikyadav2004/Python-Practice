{
 "cells": [
  {
   "cell_type": "markdown",
   "id": "cf6e2cfa",
   "metadata": {},
   "source": [
    "🧩 1. map() function\n",
    "\n",
    "➡️ Applies a function to each item in a list (or iterable).\n",
    "➡️ Returns a map object (use list() to see results).\n",
    "\n",
    "map(function, iterable)\n",
    "\n",
    "\n",
    "def square(x):\n",
    "    return x*x\n",
    "\n",
    "nums=[1,2,3]\n",
    "squared =list(map(square,nums))    \n",
    "print(squared)\n",
    "\n",
    "def square(x):\n",
    "    return x**2\n",
    "\n",
    "nums = [1, 2, 3, 4]\n",
    "squared = list(map(square, nums))\n",
    "print(squared)  # [1, 4, 9, 16]"
   ]
  },
  {
   "cell_type": "code",
   "execution_count": null,
   "id": "b24bb16c",
   "metadata": {},
   "outputs": [
    {
     "name": "stdout",
     "output_type": "stream",
     "text": [
      "[False, True, False, True]\n"
     ]
    }
   ],
   "source": [
    "nums = [1, 2, 3, 4]\n",
    "squared = list(map(lambda x: x%2==0, nums)) #on passing condition it returns boolean value\n",
    "print(squared)  # [1, 4, 9, 16]\n"
   ]
  },
  {
   "cell_type": "markdown",
   "id": "ce4ecc17",
   "metadata": {},
   "source": [
    "🧩 2. filter() function\n",
    "\n",
    "➡️ Filters elements based on a condition (True/False).\n",
    "➡️ Returns only items where the condition is True.\n",
    "\n",
    "filter(function, iterable)\n",
    "\n",
    "\n",
    "def is_even(x):\n",
    "    return x % 2 == 0\n",
    "\n",
    "nums = [1, 2, 3, 4, 5]\n",
    "even = list(filter(is_even, nums))\n",
    "print(even)  # [2, 4]\n"
   ]
  },
  {
   "cell_type": "code",
   "execution_count": null,
   "id": "2f386446",
   "metadata": {},
   "outputs": [],
   "source": [
    "nums = [1, 2, 3, 4, 5]\n",
    "even = list(filter(lambda x: x % 2 == 0, nums))\n",
    "print(even)  # [2, 4]\n"
   ]
  },
  {
   "cell_type": "markdown",
   "id": "798f2323",
   "metadata": {},
   "source": [
    "🧩 3. reduce() function\n",
    "\n",
    "➡️ Reduces a list to a single value by repeatedly applying a function.\n",
    "➡️ Comes from the module functools. \n",
    "internelyy yeh ekathe value return krta he \n",
    "from functools import reduce\n",
    "reduce(function, iterable)\n",
    "\n",
    "\n",
    "from functools import reduce\n",
    "\n",
    "def multiply(a, b):\n",
    "    return a * b\n",
    "\n",
    "nums = [1, 2, 3, 4]\n",
    "product = reduce(multiply, nums)\n",
    "print(product)  # 24\n",
    "\n"
   ]
  },
  {
   "cell_type": "code",
   "execution_count": null,
   "id": "b496974f",
   "metadata": {},
   "outputs": [],
   "source": [
    "from functools import reduce\n",
    "nums = [1, 2, 3, 4]\n",
    "product = reduce(lambda a, b: a * b, nums)\n",
    "print(product)  # 24\n",
    "    "
   ]
  },
  {
   "cell_type": "markdown",
   "id": "24ad6069",
   "metadata": {},
   "source": [
    "| Function   | Purpose                           | Output        |\n",
    "| ---------- | --------------------------------- | ------------- |\n",
    "| `map()`    | Transform each element            | New list      |\n",
    "| `filter()` | Keep elements meeting a condition | Filtered list |\n",
    "| `reduce()` | Combine all into one value        | Single result |\n"
   ]
  }
 ],
 "metadata": {
  "kernelspec": {
   "display_name": "Python 3",
   "language": "python",
   "name": "python3"
  },
  "language_info": {
   "codemirror_mode": {
    "name": "ipython",
    "version": 3
   },
   "file_extension": ".py",
   "mimetype": "text/x-python",
   "name": "python",
   "nbconvert_exporter": "python",
   "pygments_lexer": "ipython3",
   "version": "3.13.7"
  }
 },
 "nbformat": 4,
 "nbformat_minor": 5
}
