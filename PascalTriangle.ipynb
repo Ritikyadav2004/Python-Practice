{
 "cells": [
  {
   "cell_type": "code",
   "execution_count": null,
   "id": "be1cdba1",
   "metadata": {},
   "outputs": [],
   "source": [
    "#if i want to print 5 rows then\n",
    "for i in range(1,6):\n",
    "    for j in range(1,i+1):\n",
    "      if(j==1 or j==i):\n",
    "        print(1,end=\" \")\n",
    "      else:\n",
    "        print(i-1,end=\" \")  \n",
    "      \n",
    "\n",
    "    print(\"\")"
   ]
  }
 ],
 "metadata": {
  "kernelspec": {
   "display_name": "Python 3",
   "language": "python",
   "name": "python3"
  },
  "language_info": {
   "name": "python",
   "version": "3.13.7"
  }
 },
 "nbformat": 4,
 "nbformat_minor": 5
}
