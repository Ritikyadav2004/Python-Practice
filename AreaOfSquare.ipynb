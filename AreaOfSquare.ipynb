{
 "cells": [
  {
   "cell_type": "code",
   "execution_count": 2,
   "id": "3dbb6d6e",
   "metadata": {},
   "outputs": [
    {
     "name": "stdout",
     "output_type": "stream",
     "text": [
      "Area of Square is 120.99999999999996 cm Sq.\n",
      "Approximate 121 cm Sq\n"
     ]
    }
   ],
   "source": [
    "import math\n",
    "#intially apn ko total lenght find krni hogi arc ki\n",
    "# length = (theta/360)*2 * pi * radius\n",
    "#given theta is 60 deg  and radius 42cm\n",
    "length= (60/360)*2*(22/7) * 42\n",
    "\n",
    "# after finding total length for sqr , that have 4 side so length / 4\n",
    "sideOfSquare=length/4\n",
    "\n",
    "# aftr finding side\n",
    "# area of square is  side* side\n",
    "print(\"Area of Square is {} cm Sq.\".format(sideOfSquare*sideOfSquare))\n",
    "\n",
    "print(\"Approximate {} cm Sq\".format(math.ceil(sideOfSquare*sideOfSquare)))\n"
   ]
  },
  {
   "cell_type": "code",
   "execution_count": null,
   "id": "c999b39f",
   "metadata": {},
   "outputs": [],
   "source": []
  }
 ],
 "metadata": {
  "kernelspec": {
   "display_name": "Python 3",
   "language": "python",
   "name": "python3"
  },
  "language_info": {
   "codemirror_mode": {
    "name": "ipython",
    "version": 3
   },
   "file_extension": ".py",
   "mimetype": "text/x-python",
   "name": "python",
   "nbconvert_exporter": "python",
   "pygments_lexer": "ipython3",
   "version": "3.13.7"
  }
 },
 "nbformat": 4,
 "nbformat_minor": 5
}
